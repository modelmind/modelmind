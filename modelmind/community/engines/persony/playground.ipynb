{
 "cells": [
  {
   "cell_type": "code",
   "execution_count": 1,
   "metadata": {},
   "outputs": [],
   "source": [
    "from enum import Enum\n",
    "from typing import Optional, Dict, List\n",
    "from modelmind.community.theory.mbti.trait import MBTITrait\n",
    "\n",
    "\n",
    "class PersonyDimension(Enum):\n",
    "    PREFERENCE_IE = (\"P-IE\", MBTITrait.I, \"E\")\n",
    "    PREFERENCE_NS = (\"P-NS\", \"N\", \"S\")\n",
    "    PREFERENCE_TF = (\"P-TF\", \"T\", \"F\")\n",
    "    PREFERENCE_JP = (\"P-JP\", \"J\", \"P\")\n",
    "    LIFESTYLE_NINE = (\"L-NINE\", \"J\", \"P\", \"Ni\", \"Ne\")\n",
    "    LIFESTYLE_SISE = (\"L-SISE\", \"J\", \"P\", \"Si\", \"Se\")\n",
    "    LIFESTYLE_TETI = (\"L-TETI\", \"J\", \"P\", \"Te\", \"Ti\")\n",
    "    LIFESTYLE_FEFI = (\"L-FEFI\", \"J\", \"P\", \"Fe\", \"Fi\")\n",
    "\n",
    "    def __init__(self, value: str, negtrait: str, postrait: str, negfunc: Optional[str] = None, posfunc: Optional[str] = None):\n",
    "        self._value_ = value\n",
    "        self.negtrait = negtrait\n",
    "        self.postrait = postrait\n",
    "        self.negfunc = negfunc\n",
    "        self.posfunc = posfunc\n",
    "\n",
    "    @property\n",
    "    def data(self) -> Dict[str, str]:\n",
    "        return {\n",
    "            \"value\": self.value,\n",
    "            \"negtrait\": self.negtrait,\n",
    "            \"postrait\": self.postrait,\n",
    "            \"negfunc\": self.negfunc,\n",
    "            \"posfunc\": self.posfunc,\n",
    "        }\n",
    "\n",
    "    @property\n",
    "    def step(self) -> str:\n",
    "        return self.name.split(\"_\")[0] if \"_\" in self.name else \"Unknown\"\n",
    "\n",
    "    @classmethod\n",
    "    def steps(cls) -> List[str]:\n",
    "        return sorted(set(c.step for c in cls))"
   ]
  },
  {
   "cell_type": "code",
   "execution_count": 2,
   "metadata": {},
   "outputs": [],
   "source": [
    "dimension = PersonyDimension.PREFERENCE_IE\n"
   ]
  },
  {
   "cell_type": "code",
   "execution_count": 4,
   "metadata": {},
   "outputs": [
    {
     "data": {
      "text/plain": [
       "{'value': 'P-IE',\n",
       " 'negtrait': 'I',\n",
       " 'postrait': 'E',\n",
       " 'negfunc': None,\n",
       " 'posfunc': None}"
      ]
     },
     "execution_count": 4,
     "metadata": {},
     "output_type": "execute_result"
    }
   ],
   "source": [
    "dimension.data"
   ]
  },
  {
   "cell_type": "code",
   "execution_count": null,
   "metadata": {},
   "outputs": [],
   "source": []
  }
 ],
 "metadata": {
  "kernelspec": {
   "display_name": "modelmind-_ec5bts_-py3.12",
   "language": "python",
   "name": "python3"
  },
  "language_info": {
   "codemirror_mode": {
    "name": "ipython",
    "version": 3
   },
   "file_extension": ".py",
   "mimetype": "text/x-python",
   "name": "python",
   "nbconvert_exporter": "python",
   "pygments_lexer": "ipython3",
   "version": "3.12.1"
  }
 },
 "nbformat": 4,
 "nbformat_minor": 2
}
